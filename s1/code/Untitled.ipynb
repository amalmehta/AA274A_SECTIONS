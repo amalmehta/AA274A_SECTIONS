{
 "cells": [
  {
   "cell_type": "markdown",
   "metadata": {},
   "source": [
    "# Discussion 1\n"
   ]
  },
  {
   "cell_type": "code",
   "execution_count": 1,
   "metadata": {},
   "outputs": [],
   "source": [
    "import numpy as np\n",
    "import matplotlib.pyplot as plt\n",
    "from scipy.optimize import minimize\n",
    "from scipy.integrate import quad\n"
   ]
  },
  {
   "cell_type": "markdown",
   "metadata": {},
   "source": [
    "# Q1: define a sin function using Numpy\n"
   ]
  },
  {
   "cell_type": "code",
   "execution_count": 2,
   "metadata": {},
   "outputs": [
    {
     "name": "stdout",
     "output_type": "stream",
     "text": [
      "Defining sin function\n"
     ]
    }
   ],
   "source": [
    "print(\"Defining sin function\")\n",
    "\n",
    "def sin(x):\n",
    "    return np.sin(x)\n",
    "\n"
   ]
  },
  {
   "cell_type": "markdown",
   "metadata": {},
   "source": [
    "# Q2: Find the minimum using Scipy\n"
   ]
  },
  {
   "cell_type": "code",
   "execution_count": 12,
   "metadata": {},
   "outputs": [
    {
     "name": "stdout",
     "output_type": "stream",
     "text": [
      "minimizing sin function\n",
      "Optimization terminated successfully.\n",
      "         Current function value: -1.000000\n",
      "         Iterations: 39\n",
      "         Function evaluations: 78\n",
      "X-value that minimizes sin: -1.570796\n",
      "Minimum of sin: -1.000000\n"
     ]
    }
   ],
   "source": [
    "print(\"minimizing sin function\")\n",
    "res = minimize(sin, [0], method='nelder-mead', options={'xtol': 1e-8, 'disp': True})\n",
    "print(\"X-value that minimizes sin: %f\"% res.x)\n",
    "print(\"Minimum of sin: %f\"% sin(res.x))"
   ]
  },
  {
   "cell_type": "markdown",
   "metadata": {},
   "source": [
    "# Q3: Integrate from [0,1]"
   ]
  },
  {
   "cell_type": "code",
   "execution_count": 6,
   "metadata": {},
   "outputs": [
    {
     "name": "stdout",
     "output_type": "stream",
     "text": [
      "Integrating sin from 0 to 1 using scipy\n",
      "Integral of sin from x=0..1: 0.45969769413186023\n"
     ]
    }
   ],
   "source": [
    "print(\"Integrating sin from 0 to 1 using scipy\")\n",
    "I = quad(sin, 0, 1)\n",
    "print(\"Integral of sin from x=0..1: {}\".format(I[0]))\n",
    "\n"
   ]
  },
  {
   "cell_type": "markdown",
   "metadata": {},
   "source": [
    "# Q4: Plotting from [0, 2pi]"
   ]
  },
  {
   "cell_type": "code",
   "execution_count": 10,
   "metadata": {},
   "outputs": [
    {
     "name": "stdout",
     "output_type": "stream",
     "text": [
      "Plotting from 0 to 2pi\n"
     ]
    },
    {
     "data": {
      "text/plain": [
       "Text(0, 0.5, 'y')"
      ]
     },
     "execution_count": 10,
     "metadata": {},
     "output_type": "execute_result"
    },
    {
     "data": {
      "image/png": "[encoded data removed]",
      "text/plain": [
       "<Figure size 432x288 with 1 Axes>"
      ]
     },
     "metadata": {
      "needs_background": "light"
     },
     "output_type": "display_data"
    }
   ],
   "source": [
    "print(\"Plotting from 0 to 2pi\")\n",
    "x = np.linspace(0, 2*np.pi, 200)\n",
    "plt.plot(x, sin(x))\n",
    "plt.title(\"Sin from 0 to 2pi\")\n",
    "plt.xlabel(\"x\")\n",
    "plt.ylabel(\"y\")"
   ]
  },
  {
   "cell_type": "code",
   "execution_count": null,
   "metadata": {},
   "outputs": [],
   "source": [
    "\"\""
   ]
  }
 ],
 "metadata": {
  "kernelspec": {
   "display_name": "Python 3",
   "language": "python",
   "name": "python3"
  },
  "language_info": {
   "codemirror_mode": {
    "name": "ipython",
    "version": 3
   },
   "file_extension": ".py",
   "mimetype": "text/x-python",
   "name": "python",
   "nbconvert_exporter": "python",
   "pygments_lexer": "ipython3",
   "version": "3.8.5"
  }
 },
 "nbformat": 4,
 "nbformat_minor": 4
}
